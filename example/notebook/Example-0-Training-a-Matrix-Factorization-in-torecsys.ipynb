{
 "cells": [
  {
   "cell_type": "markdown",
   "metadata": {},
   "source": [
    "# Example 0. Training a Matrix Factorization in ToR[e]cSys"
   ]
  },
  {
   "cell_type": "code",
   "execution_count": 1,
   "metadata": {},
   "outputs": [],
   "source": [
    "from functools import partial\n",
    "from sklearn.model_selection import train_test_split\n",
    "import torch\n",
    "import torch.utils.data\n",
    "import torecsys as trs"
   ]
  },
  {
   "cell_type": "code",
   "execution_count": 2,
   "metadata": {},
   "outputs": [],
   "source": [
    "# get samples data from movielens as a example\n",
    "# trs.data.sampledata.download_ml_data(size=\"latest-small\", dir=\"./data\")\n",
    "_, _, ratings_df, _ = trs.data.sampledata.load_ml_data(size=\"latest-small\", dir=\"./data\")"
   ]
  },
  {
   "cell_type": "code",
   "execution_count": 3,
   "metadata": {},
   "outputs": [],
   "source": [
    "# set hyper-parameters of model\n",
    "user_size = ratings_df.userId.max() + 1\n",
    "item_size = ratings_df.movieId.max() + 1\n",
    "\n",
    "embed_size = 16\n",
    "num_fields = 2"
   ]
  },
  {
   "cell_type": "code",
   "execution_count": 4,
   "metadata": {},
   "outputs": [],
   "source": [
    "# split data into training set and testing set\n",
    "train_df, test_df = train_test_split(ratings_df, test_size=0.1)"
   ]
  },
  {
   "cell_type": "code",
   "execution_count": 5,
   "metadata": {},
   "outputs": [],
   "source": [
    "# define inputs' schema and colleat_fn for dataloader\n",
    "schema = {\n",
    "    \"userId\": [\"user_id\", \"single_index\"],\n",
    "    \"movieId\": [\"movie_id\", \"single_index\"],\n",
    "    \"rating\": [\"labels\", \"values\"]\n",
    "}\n",
    "collate_fn = partial(trs.data.dataloader.dict_collate_fn, schema=schema)"
   ]
  },
  {
   "cell_type": "code",
   "execution_count": 6,
   "metadata": {},
   "outputs": [],
   "source": [
    "# initialize training and testing dataset\n",
    "columns = [\"userId\", \"movieId\", \"rating\"]\n",
    "train_set = trs.data.dataset.DataFrameToDataset(train_df, columns=columns, names=(\"B\", \"N\"))\n",
    "test_set = trs.data.dataset.DataFrameToDataset(test_df, columns=columns, names=(\"B\", \"N\"))"
   ]
  },
  {
   "cell_type": "code",
   "execution_count": 7,
   "metadata": {},
   "outputs": [],
   "source": [
    "# initialize training and testing dataloader\n",
    "train_dl = torch.utils.data.DataLoader(\n",
    "    train_set, batch_size=1024, shuffle=True, \n",
    "    num_workers=0, collate_fn=collate_fn)\n",
    "\n",
    "test_dl = torch.utils.data.DataLoader(\n",
    "    test_set, batch_size=1024, shuffle=False, \n",
    "    num_workers=0, collate_fn=collate_fn)"
   ]
  },
  {
   "cell_type": "code",
   "execution_count": 8,
   "metadata": {},
   "outputs": [
    {
     "name": "stderr",
     "output_type": "stream",
     "text": "c:\\Users\\User\\Desktop\\projects\\torecsys\\torecsys\\utils\\decorator\\decorator.py:41: UserWarning: The module is checked that it is not compatible with torch.jit.trace due to the NamedTensor method. This will be updated to compatibilized when PyTorch update.\n  \"when PyTorch update.\", UserWarning\n..\\c10/core/TensorImpl.h:864: UserWarning: Named tensors and all their associated APIs are an experimental feature and subject to change. Please do not use them for anything important until they are released as stable.\n"
    }
   ],
   "source": [
    "# inititalize embedding fields\n",
    "feat_inputs_embedding = trs.inputs.base.MultiIndicesEmbedding(\n",
    "    1, [user_size, item_size]\n",
    ")\n",
    "\n",
    "# define schema of wrapper and initialize InputsWrapper\n",
    "feat_inputs_embedding.set_schema(inputs=[\"user_id\", \"movie_id\"])\n",
    "\n",
    "# initialize inputs wrapper\n",
    "schema = {\n",
    "    \"emb_inputs\"  : feat_inputs_embedding\n",
    "}\n",
    "inputs_wrapper = trs.inputs.InputsWrapper(schema)"
   ]
  },
  {
   "cell_type": "code",
   "execution_count": 9,
   "metadata": {},
   "outputs": [],
   "source": [
    "# initialize matrix factorization model\n",
    "model = trs.models.MatrixFactorizationModel()"
   ]
  },
  {
   "cell_type": "code",
   "execution_count": 10,
   "metadata": {},
   "outputs": [
    {
     "name": "stdout",
     "output_type": "stream",
     "text": "logger has been initialized.\n+------------------------------------------+\n|     Name:                Value:          |\n| Inputs          InputsWrapper            |\n| Model           MatrixFactorizationModel |\n| Loss            MSELoss                  |\n| Optimizer       AdamW                    |\n| Reg norm        2                        |\n| Reg lambda      0.100                    |\n| Num of epochs   1                        |\n+------------------------------------------+\n"
    }
   ],
   "source": [
    "# initialize trainer to train the module\n",
    "trainer = trs.Trainer(\n",
    "    inputs_wrapper = inputs_wrapper, \n",
    "    model = model,\n",
    "    epochs = 1,\n",
    "    verboses = 1,\n",
    "    use_jit = False\n",
    ")"
   ]
  },
  {
   "cell_type": "code",
   "execution_count": 11,
   "metadata": {},
   "outputs": [
    {
     "name": "stdout",
     "output_type": "stream",
     "text": "Sequential(\n  (inputs_wrapper): InputsWrapper(\n    (emb_inputs): MultiIndicesEmbedding(\n      (embedding): Embedding(194221, 1)\n    )\n  )\n  (model): MatrixFactorizationModel(\n    (mf): GeneralizedMatrixFactorizationLayer()\n  )\n)\n"
    }
   ],
   "source": [
    "print(trainer.sequential)"
   ]
  },
  {
   "cell_type": "code",
   "execution_count": 12,
   "metadata": {},
   "outputs": [
    {
     "name": "stdout",
     "output_type": "stream",
     "text": "Epoch 1 / 1:\nstep loss : 58.7626:   0%|          | 0/89 [00:01<?, ?it/s]step avg loss at step 0 of epoch 0 : 0.1175\nstep loss : 55.4865: 100%|██████████| 89/89 [02:17<00:00,  1.21s/it]\nepoch avg loss : 56.9743\n"
    }
   ],
   "source": [
    "trainer.fit(train_dl)"
   ]
  },
  {
   "cell_type": "code",
   "execution_count": null,
   "metadata": {},
   "outputs": [],
   "source": [
    "for batch in test_dl:\n",
    "    print(trainer.predict(batch))\n",
    "    break"
   ]
  },
  {
   "cell_type": "code",
   "execution_count": null,
   "metadata": {},
   "outputs": [],
   "source": []
  }
 ],
 "metadata": {
  "kernelspec": {
   "display_name": "Python 3",
   "language": "python",
   "name": "python3"
  },
  "language_info": {
   "codemirror_mode": {
    "name": "ipython",
    "version": 3
   },
   "file_extension": ".py",
   "mimetype": "text/x-python",
   "name": "python",
   "nbconvert_exporter": "python",
   "pygments_lexer": "ipython3",
   "version": "3.7.0"
  }
 },
 "nbformat": 4,
 "nbformat_minor": 4
}