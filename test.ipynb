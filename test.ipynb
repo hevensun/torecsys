{
 "cells": [
  {
   "cell_type": "code",
   "execution_count": 1,
   "metadata": {},
   "outputs": [],
   "source": [
    "import torch\n",
    "import torecsys as trs"
   ]
  },
  {
   "cell_type": "code",
   "execution_count": 2,
   "metadata": {},
   "outputs": [],
   "source": [
    "# multi_0 = trs.inputs.base.MultiIndicesFieldAwareEmbedding(8, [16, 16, 16])\n",
    "# multi_0.set_schema(inputs=[\"m0\"])\n",
    "\n",
    "# m0 = torch.randint(0, 16, size=(8, 3))\n",
    "# m0.names = (\"B\", \"N\")\n",
    "\n",
    "# emb_m = multi_0(m0)\n",
    "\n",
    "# val_0 = trs.inputs.base.SingleIndexEmbedding(1, 16)\n",
    "# val_1 = trs.inputs.base.SingleIndexEmbedding(1, 16)\n",
    "# single_0 = trs.inputs.base.SingleIndexEmbedding(8, 16)\n",
    "# single_1 = trs.inputs.base.SingleIndexEmbedding(8, 16)\n",
    "\n",
    "# val_0.set_schema(inputs=[\"t0\"])\n",
    "# val_1.set_schema(inputs=[\"t1\"])\n",
    "# single_0.set_schema(inputs=[\"t0\"])\n",
    "# single_1.set_schema(inputs=[\"t1\"])\n",
    "\n",
    "# val_stack = trs.inputs.base.StackedInputs(inputs=[val_0, val_1])\n",
    "# single_stack = trs.inputs.base.StackedInputs(inputs=[single_0, single_1])\n",
    "\n",
    "# inputs_wrapper = trs.inputs.InputsWrapper({\n",
    "#     \"feat_inputs\": val_stack,\n",
    "#     \"emb_inputs\": single_stack\n",
    "# })\n",
    "\n",
    "# t0 = torch.randint(0, 16, size=(8, 1))\n",
    "# t1 = torch.randint(0, 16, size=(8, 1))\n",
    "# t0.names = (\"B\", \"N\")\n",
    "# t1.names = (\"B\", \"N\")\n",
    "\n",
    "# inp = {\"t0\": t0, \"t1\": t1}\n",
    "\n",
    "# emb_inp = inputs_wrapper(inp)"
   ]
  },
  {
   "cell_type": "code",
   "execution_count": 3,
   "metadata": {},
   "outputs": [
    {
     "name": "stderr",
     "output_type": "stream",
     "text": [
      "..\\c10/core/TensorImpl.h:864: UserWarning: Named tensors and all their associated APIs are an experimental feature and subject to change. Please do not use them for anything important until they are released as stable.\n"
     ]
    }
   ],
   "source": [
    "user_feat = torch.randn(size=(4, 1, 3))\n",
    "content_feat = torch.randn(size=(4, 1, 3))\n",
    "pos_feat = torch.randn(size=(4, 1, 3))\n",
    "neg_feat = torch.randn(size=(4, 2, 3))\n",
    "\n",
    "names = (\"B\", \"N\", \"E\")\n",
    "\n",
    "user_feat.names = names\n",
    "content_feat.names = names\n",
    "pos_feat.names = names\n",
    "neg_feat.names = names"
   ]
  },
  {
   "cell_type": "code",
   "execution_count": 4,
   "metadata": {},
   "outputs": [
    {
     "name": "stderr",
     "output_type": "stream",
     "text": [
      "C:\\Users\\User\\Desktop\\projects\\torecsys\\torecsys\\utils\\decorator\\decorator.py:41: UserWarning: The module is checked that it is not compatible with torch.jit.trace due to the NamedTensor method. This will be updated to compatibilized when PyTorch update.\n",
      "  \"when PyTorch update.\", UserWarning\n"
     ]
    }
   ],
   "source": [
    "model = trs.models.DeepMatchingCorrelationPredictionModel(3, 1, 1, 1, 1, [3, 3], [3, 3], [3, 3])"
   ]
  },
  {
   "cell_type": "code",
   "execution_count": 5,
   "metadata": {},
   "outputs": [],
   "source": [
    "output = model(user_feat, content_feat, pos_feat, neg_feat)"
   ]
  },
  {
   "cell_type": "code",
   "execution_count": 7,
   "metadata": {},
   "outputs": [],
   "source": [
    "optimizer = torch.optim.SGD(model.parameters(), lr=0.01, momentum=0.9)\n",
    "loss_pred = torch.nn.MSELoss()\n",
    "loss_match = torch.nn.MSELoss()\n",
    "loss_corr = torch.nn.MSELoss()"
   ]
  },
  {
   "cell_type": "code",
   "execution_count": 11,
   "metadata": {},
   "outputs": [],
   "source": [
    "loss = loss_pred(output[0], torch.zeros(size=(4, 1)))"
   ]
  },
  {
   "cell_type": "code",
   "execution_count": 12,
   "metadata": {},
   "outputs": [],
   "source": [
    "loss.backward()"
   ]
  },
  {
   "cell_type": "code",
   "execution_count": 13,
   "metadata": {},
   "outputs": [
    {
     "name": "stdout",
     "output_type": "stream",
     "text": [
      "tensor([[0., 0., 0., 0., 0., 0.],\n",
      "        [0., 0., 0., 0., 0., 0.],\n",
      "        [0., 0., 0., 0., 0., 0.]])\n",
      "tensor([0., 0., 0.])\n",
      "tensor([[0., 0., 0.],\n",
      "        [0., 0., 0.],\n",
      "        [0., 0., 0.]])\n",
      "tensor([0.0086, 0.0000, 0.0000])\n",
      "tensor([[-0.0053,  0.0000,  0.0000]])\n",
      "tensor([0.0199])\n",
      "None\n",
      "None\n",
      "None\n",
      "None\n",
      "None\n",
      "None\n",
      "None\n",
      "None\n",
      "None\n",
      "None\n",
      "None\n",
      "None\n",
      "None\n",
      "None\n",
      "None\n",
      "None\n",
      "None\n",
      "None\n"
     ]
    }
   ],
   "source": [
    "for p in model.parameters():\n",
    "    print(p.grad)"
   ]
  },
  {
   "cell_type": "code",
   "execution_count": 14,
   "metadata": {},
   "outputs": [],
   "source": [
    "loss = loss_pred(output[1], torch.zeros(size=(4, 1)))"
   ]
  },
  {
   "cell_type": "code",
   "execution_count": 15,
   "metadata": {},
   "outputs": [],
   "source": [
    "loss.backward()"
   ]
  },
  {
   "cell_type": "code",
   "execution_count": 16,
   "metadata": {},
   "outputs": [
    {
     "name": "stdout",
     "output_type": "stream",
     "text": [
      "tensor([[0., 0., 0., 0., 0., 0.],\n",
      "        [0., 0., 0., 0., 0., 0.],\n",
      "        [0., 0., 0., 0., 0., 0.]])\n",
      "tensor([0., 0., 0.])\n",
      "tensor([[0., 0., 0.],\n",
      "        [0., 0., 0.],\n",
      "        [0., 0., 0.]])\n",
      "tensor([0.0086, 0.0000, 0.0000])\n",
      "tensor([[-0.0053,  0.0000,  0.0000]])\n",
      "tensor([0.0199])\n",
      "tensor([[ 0.0050,  0.0031, -0.0003],\n",
      "        [-0.0110, -0.0070,  0.0024],\n",
      "        [ 0.0000,  0.0000,  0.0000]])\n",
      "tensor([-0.0076,  0.0066,  0.0000])\n",
      "tensor([[ 3.8231e-03,  6.6994e-04,  0.0000e+00],\n",
      "        [-5.4403e-04,  0.0000e+00,  0.0000e+00],\n",
      "        [-5.0403e-04, -3.4585e-05,  0.0000e+00]])\n",
      "tensor([ 0.0345, -0.0072, -0.0023])\n",
      "tensor([[-0.0091, -0.0026, -0.0235]])\n",
      "tensor([-0.1244])\n",
      "tensor([[-0.0054,  0.0018, -0.0046],\n",
      "        [ 0.0020, -0.0017,  0.0020],\n",
      "        [-0.0013,  0.0001, -0.0005]])\n",
      "tensor([-0.0077,  0.0035, -0.0018])\n",
      "tensor([[-0.0179, -0.0022, -0.0011],\n",
      "        [ 0.0026,  0.0003,  0.0002],\n",
      "        [-0.0137, -0.0017, -0.0009]])\n",
      "tensor([-0.0175,  0.0026, -0.0134])\n",
      "tensor([[0.0182, 0.0082, 0.0247]])\n",
      "tensor([0.0385])\n",
      "None\n",
      "None\n",
      "None\n",
      "None\n",
      "None\n",
      "None\n"
     ]
    }
   ],
   "source": [
    "for p in model.parameters():\n",
    "    print(p.grad)"
   ]
  },
  {
   "cell_type": "code",
   "execution_count": 17,
   "metadata": {},
   "outputs": [],
   "source": [
    "loss = loss_pred(output[2], torch.zeros(size=(4, 1)))"
   ]
  },
  {
   "cell_type": "code",
   "execution_count": 18,
   "metadata": {},
   "outputs": [],
   "source": [
    "loss.backward()"
   ]
  },
  {
   "cell_type": "code",
   "execution_count": 19,
   "metadata": {},
   "outputs": [
    {
     "name": "stdout",
     "output_type": "stream",
     "text": [
      "tensor([[0., 0., 0., 0., 0., 0.],\n",
      "        [0., 0., 0., 0., 0., 0.],\n",
      "        [0., 0., 0., 0., 0., 0.]])\n",
      "tensor([0., 0., 0.])\n",
      "tensor([[0., 0., 0.],\n",
      "        [0., 0., 0.],\n",
      "        [0., 0., 0.]])\n",
      "tensor([0.0086, 0.0000, 0.0000])\n",
      "tensor([[-0.0053,  0.0000,  0.0000]])\n",
      "tensor([0.0199])\n",
      "tensor([[ 0.0050,  0.0031, -0.0003],\n",
      "        [-0.0110, -0.0070,  0.0024],\n",
      "        [ 0.0000,  0.0000,  0.0000]])\n",
      "tensor([-0.0076,  0.0066,  0.0000])\n",
      "tensor([[ 3.8231e-03,  6.6994e-04,  0.0000e+00],\n",
      "        [-5.4403e-04,  0.0000e+00,  0.0000e+00],\n",
      "        [-5.0403e-04, -3.4585e-05,  0.0000e+00]])\n",
      "tensor([ 0.0345, -0.0072, -0.0023])\n",
      "tensor([[-0.0091, -0.0026, -0.0235]])\n",
      "tensor([-0.1244])\n",
      "tensor([[-0.0054,  0.0018, -0.0046],\n",
      "        [ 0.0020, -0.0017,  0.0020],\n",
      "        [-0.0013,  0.0001, -0.0005]])\n",
      "tensor([-0.0077,  0.0035, -0.0018])\n",
      "tensor([[-0.0179, -0.0022, -0.0011],\n",
      "        [ 0.0026,  0.0003,  0.0002],\n",
      "        [-0.0137, -0.0017, -0.0009]])\n",
      "tensor([-0.0175,  0.0026, -0.0134])\n",
      "tensor([[0.0182, 0.0082, 0.0247]])\n",
      "tensor([0.0385])\n",
      "tensor([[-0.0182, -0.0352,  0.0144],\n",
      "        [ 0.0610,  0.0043,  0.0411],\n",
      "        [-0.0325,  0.0092,  0.0030]])\n",
      "tensor([ 0.0299,  0.0953, -0.0306])\n",
      "tensor([[ 5.0577e-04,  1.2933e-03,  1.0849e-04],\n",
      "        [ 5.6179e-02,  1.4365e-01,  1.2050e-02],\n",
      "        [-1.8505e-02, -2.0538e-01, -1.7228e-02]])\n",
      "tensor([ 0.0017,  0.1869, -0.2274])\n",
      "tensor([[-0.2855, -0.2447, -0.0449]])\n",
      "tensor([-0.4798])\n"
     ]
    }
   ],
   "source": [
    "for p in model.parameters():\n",
    "    print(p.grad)"
   ]
  },
  {
   "cell_type": "code",
   "execution_count": null,
   "metadata": {},
   "outputs": [],
   "source": []
  }
 ],
 "metadata": {
  "kernelspec": {
   "display_name": "Python 3",
   "language": "python",
   "name": "python3"
  },
  "language_info": {
   "codemirror_mode": {
    "name": "ipython",
    "version": 3
   },
   "file_extension": ".py",
   "mimetype": "text/x-python",
   "name": "python",
   "nbconvert_exporter": "python",
   "pygments_lexer": "ipython3",
   "version": "3.7.0"
  }
 },
 "nbformat": 4,
 "nbformat_minor": 4
}
