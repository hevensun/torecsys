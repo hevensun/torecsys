{
 "cells": [
  {
   "cell_type": "code",
   "execution_count": 1,
   "metadata": {},
   "outputs": [],
   "source": [
    "import torch\n",
    "import torecsys as trs"
   ]
  },
  {
   "cell_type": "code",
   "execution_count": 2,
   "metadata": {},
   "outputs": [
    {
     "name": "stderr",
     "output_type": "stream",
     "text": [
      "C:\\Users\\User\\Desktop\\projects\\torecsys\\torecsys\\utils\\decorator\\decorator.py:41: UserWarning: The module is checked that it is not compatible with torch.jit.trace due to the NamedTensor method. This will be updated to compatibilized when PyTorch update.\n",
      "  \"when PyTorch update.\", UserWarning\n",
      "..\\c10/core/TensorImpl.h:864: UserWarning: Named tensors and all their associated APIs are an experimental feature and subject to change. Please do not use them for anything important until they are released as stable.\n"
     ]
    }
   ],
   "source": [
    "single_0 = trs.inputs.base.SingleIndexEmbedding(7, 16)\n",
    "single_1 = trs.inputs.base.SingleIndexEmbedding(8, 16)\n",
    "value_0 = trs.inputs.base.ValueInputs(1)\n",
    "\n",
    "single_0.set_schema(inputs=[\"t0\"])\n",
    "single_1.set_schema(inputs=[\"t0\"])\n",
    "value_0.set_schema(inputs=[\"v0\"])\n",
    "\n",
    "cat = trs.inputs.base.ConcatInputs(inputs=[single_0, value_0])\n",
    "stack = trs.inputs.base.StackedInputs(inputs=[cat, single_1])\n",
    "\n",
    "t0 = torch.randint(0, 16, size=(8, 1))\n",
    "t0.names = (\"B\", \"N\")\n",
    "v0 = torch.randn(size=(8, 1))\n",
    "v0.names = (\"B\", \"N\")\n",
    "\n",
    "emb_t = stack({\"t0\": t0, \"v0\": v0})\n",
    "\n",
    "multi_0 = trs.inputs.base.MultiIndicesFieldAwareEmbedding(8, [16, 16, 16])\n",
    "multi_0.set_schema(inputs=[\"m0\"])\n",
    "\n",
    "m0 = torch.randint(0, 16, size=(8, 3))\n",
    "m0.names = (\"B\", \"N\")\n",
    "\n",
    "emb_m = multi_0(m0)"
   ]
  },
  {
   "cell_type": "code",
   "execution_count": 5,
   "metadata": {},
   "outputs": [],
   "source": [
    "layer = trs.layers.WideLayer(1, 8, 2)"
   ]
  },
  {
   "cell_type": "code",
   "execution_count": 6,
   "metadata": {},
   "outputs": [
    {
     "data": {
      "text/plain": [
       "WideLayer(\n",
       "  (model): Sequential(\n",
       "    (linear_0): Linear(in_features=16, out_features=1, bias=True)\n",
       "    (dropout_0): Dropout(p=0.0, inplace=False)\n",
       "  )\n",
       ")"
      ]
     },
     "execution_count": 6,
     "metadata": {},
     "output_type": "execute_result"
    }
   ],
   "source": [
    "layer"
   ]
  },
  {
   "cell_type": "code",
   "execution_count": 7,
   "metadata": {},
   "outputs": [
    {
     "data": {
      "text/plain": [
       "tensor([[-0.2146],\n",
       "        [ 0.1739],\n",
       "        [-0.0797],\n",
       "        [ 0.6855],\n",
       "        [-0.1158],\n",
       "        [-0.1822],\n",
       "        [-0.7737],\n",
       "        [-1.0337]], grad_fn=<AddmmBackward>, names=('B', 'O'))"
      ]
     },
     "execution_count": 7,
     "metadata": {},
     "output_type": "execute_result"
    }
   ],
   "source": [
    "layer(emb_t)"
   ]
  },
  {
   "cell_type": "code",
   "execution_count": null,
   "metadata": {},
   "outputs": [],
   "source": []
  }
 ],
 "metadata": {
  "kernelspec": {
   "display_name": "Python 3",
   "language": "python",
   "name": "python3"
  },
  "language_info": {
   "codemirror_mode": {
    "name": "ipython",
    "version": 3
   },
   "file_extension": ".py",
   "mimetype": "text/x-python",
   "name": "python",
   "nbconvert_exporter": "python",
   "pygments_lexer": "ipython3",
   "version": "3.7.0"
  }
 },
 "nbformat": 4,
 "nbformat_minor": 4
}
